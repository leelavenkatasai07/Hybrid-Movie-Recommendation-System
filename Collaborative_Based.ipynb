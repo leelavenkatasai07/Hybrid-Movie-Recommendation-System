{
  "cells": [
    {
      "cell_type": "markdown",
      "metadata": {
        "id": "931NTvk8MDKE"
      },
      "source": [
        "Collaborative-Based Filtering"
      ]
    },
    {
      "cell_type": "code",
      "execution_count": 1,
      "metadata": {
        "id": "zXaKOdWqtzj8",
        "colab": {
          "base_uri": "https://localhost:8080/"
        },
        "outputId": "c9e5c5b2-cfd1-4c41-887e-1c23e384cee1",
        "collapsed": true
      },
      "outputs": [
        {
          "output_type": "stream",
          "name": "stdout",
          "text": [
            "Requirement already satisfied: scikit-surprise in /usr/local/lib/python3.11/dist-packages (1.1.4)\n",
            "Requirement already satisfied: joblib>=1.2.0 in /usr/local/lib/python3.11/dist-packages (from scikit-surprise) (1.5.0)\n",
            "Requirement already satisfied: numpy>=1.19.5 in /usr/local/lib/python3.11/dist-packages (from scikit-surprise) (1.24.4)\n",
            "Requirement already satisfied: scipy>=1.6.0 in /usr/local/lib/python3.11/dist-packages (from scikit-surprise) (1.15.3)\n"
          ]
        }
      ],
      "source": [
        "!pip install scikit-surprise"
      ]
    },
    {
      "cell_type": "code",
      "source": [
        "!pip install numpy==1.24.4\n",
        "\n",
        "import pandas as pd\n",
        "from surprise import Dataset, Reader, SVD\n",
        "from surprise.model_selection import train_test_split\n",
        "from surprise import accuracy\n",
        "from collections import defaultdict\n",
        "\n",
        "ratings_df = pd.read_csv('/content/cleaned_ratings.csv')\n",
        "movies_df = pd.read_csv('/content/cleaned_movies_content.csv')\n",
        "\n",
        "reader = Reader(rating_scale=(0.5, 5.0))\n",
        "data = Dataset.load_from_df(ratings_df[['userId', 'movieId', 'rating']], reader)\n",
        "\n",
        "trainset, testset = train_test_split(data, test_size=0.2, random_state=42)\n",
        "\n",
        "model = SVD()\n",
        "model.fit(trainset)\n",
        "\n",
        "predictions = model.test(testset)\n",
        "print(\"Model trained — RMSE:\", accuracy.rmse(predictions))"
      ],
      "metadata": {
        "id": "GZD5l9wVukkL",
        "colab": {
          "base_uri": "https://localhost:8080/"
        },
        "outputId": "c692b5e4-f502-4026-cc67-edc085316381"
      },
      "execution_count": 2,
      "outputs": [
        {
          "output_type": "stream",
          "name": "stdout",
          "text": [
            "Requirement already satisfied: numpy==1.24.4 in /usr/local/lib/python3.11/dist-packages (1.24.4)\n",
            "RMSE: 0.7972\n",
            "Model trained — RMSE: 0.7971954271304101\n"
          ]
        }
      ]
    },
    {
      "cell_type": "code",
      "source": [
        "def get_top_n_recommendations(user_id, movies_df, model, ratings_df, n=10):\n",
        "    rated_movie_ids = ratings_df[ratings_df['userId'] == user_id]['movieId'].tolist()\n",
        "    all_movie_ids = movies_df['id'].unique()\n",
        "    unseen_movie_ids = [movie_id for movie_id in all_movie_ids if movie_id not in rated_movie_ids]\n",
        "    predictions = [model.predict(user_id, movie_id) for movie_id in unseen_movie_ids]\n",
        "    predictions.sort(key=lambda x: x.est, reverse=True)\n",
        "    top_n = predictions[:n]\n",
        "    top_movie_ids = [pred.iid for pred in top_n]\n",
        "    top_movies = movies_df[movies_df['id'].isin(top_movie_ids)][['id', 'title']]\n",
        "    top_movies['predicted_rating'] = top_movies['id'].map({pred.iid: pred.est for pred in top_n})\n",
        "    return top_movies.sort_values(by='predicted_rating', ascending=False).reset_index(drop=True)\n",
        "\n",
        "user_id = 1\n",
        "top_recs = get_top_n_recommendations(user_id, movies_df, model, ratings_df, n=10)\n",
        "print(f\"\\nTop 10 recommendations for user {user_id}:\")\n",
        "print(top_recs)"
      ],
      "metadata": {
        "id": "g88Jf9NHunN5",
        "colab": {
          "base_uri": "https://localhost:8080/"
        },
        "outputId": "da534bc5-240e-446d-92a5-fc056db50466"
      },
      "execution_count": 3,
      "outputs": [
        {
          "output_type": "stream",
          "name": "stdout",
          "text": [
            "\n",
            "Top 10 recommendations for user 1:\n",
            "      id                         title  predicted_rating\n",
            "0   2360                  Saving Grace          4.741142\n",
            "1    214                       Saw III          4.722663\n",
            "2    111                      Scarface          4.693497\n",
            "3   2395  Asterix at the Olympic Games          4.692242\n",
            "4   4979             Windows on Monday          4.687985\n",
            "5    750               Murder She Said          4.681184\n",
            "6  27834                            CQ          4.670098\n",
            "7    608               Men in Black II          4.666895\n",
            "8  92475       Three Songs About Lenin          4.664905\n",
            "9  94959                Edward, My Son          4.656701\n"
          ]
        }
      ]
    },
    {
      "cell_type": "code",
      "source": [
        "print(\"ratings_df exists:\", 'ratings_df' in locals())\n",
        "print(\"SVD model exists:\", 'model' in locals())"
      ],
      "metadata": {
        "id": "7u50z2G1uqWL",
        "colab": {
          "base_uri": "https://localhost:8080/"
        },
        "outputId": "7280e463-9584-4dd4-f230-37dac397a89a"
      },
      "execution_count": 4,
      "outputs": [
        {
          "output_type": "stream",
          "name": "stdout",
          "text": [
            "ratings_df exists: True\n",
            "SVD model exists: True\n"
          ]
        }
      ]
    },
    {
      "cell_type": "code",
      "source": [
        "import pickle\n",
        "from google.colab import files\n",
        "\n",
        "with open(\"ratings_df.pkl\", \"wb\") as f:\n",
        "    pickle.dump(ratings_df, f)\n",
        "files.download(\"ratings_df.pkl\")\n",
        "\n",
        "with open(\"svd_model.pkl\", \"wb\") as f:\n",
        "    pickle.dump(model, f)\n",
        "files.download(\"svd_model.pkl\")"
      ],
      "metadata": {
        "id": "tFePl3hdutWu",
        "colab": {
          "base_uri": "https://localhost:8080/",
          "height": 17
        },
        "outputId": "f5e72f24-cc4f-41cf-ecb1-365914b70a1d"
      },
      "execution_count": 5,
      "outputs": [
        {
          "output_type": "display_data",
          "data": {
            "text/plain": [
              "<IPython.core.display.Javascript object>"
            ],
            "application/javascript": [
              "\n",
              "    async function download(id, filename, size) {\n",
              "      if (!google.colab.kernel.accessAllowed) {\n",
              "        return;\n",
              "      }\n",
              "      const div = document.createElement('div');\n",
              "      const label = document.createElement('label');\n",
              "      label.textContent = `Downloading \"${filename}\": `;\n",
              "      div.appendChild(label);\n",
              "      const progress = document.createElement('progress');\n",
              "      progress.max = size;\n",
              "      div.appendChild(progress);\n",
              "      document.body.appendChild(div);\n",
              "\n",
              "      const buffers = [];\n",
              "      let downloaded = 0;\n",
              "\n",
              "      const channel = await google.colab.kernel.comms.open(id);\n",
              "      // Send a message to notify the kernel that we're ready.\n",
              "      channel.send({})\n",
              "\n",
              "      for await (const message of channel.messages) {\n",
              "        // Send a message to notify the kernel that we're ready.\n",
              "        channel.send({})\n",
              "        if (message.buffers) {\n",
              "          for (const buffer of message.buffers) {\n",
              "            buffers.push(buffer);\n",
              "            downloaded += buffer.byteLength;\n",
              "            progress.value = downloaded;\n",
              "          }\n",
              "        }\n",
              "      }\n",
              "      const blob = new Blob(buffers, {type: 'application/binary'});\n",
              "      const a = document.createElement('a');\n",
              "      a.href = window.URL.createObjectURL(blob);\n",
              "      a.download = filename;\n",
              "      div.appendChild(a);\n",
              "      a.click();\n",
              "      div.remove();\n",
              "    }\n",
              "  "
            ]
          },
          "metadata": {}
        },
        {
          "output_type": "display_data",
          "data": {
            "text/plain": [
              "<IPython.core.display.Javascript object>"
            ],
            "application/javascript": [
              "download(\"download_a8134f67-1621-4fb5-8c97-fc0b36bf1b5b\", \"ratings_df.pkl\", 683287667)"
            ]
          },
          "metadata": {}
        },
        {
          "output_type": "display_data",
          "data": {
            "text/plain": [
              "<IPython.core.display.Javascript object>"
            ],
            "application/javascript": [
              "\n",
              "    async function download(id, filename, size) {\n",
              "      if (!google.colab.kernel.accessAllowed) {\n",
              "        return;\n",
              "      }\n",
              "      const div = document.createElement('div');\n",
              "      const label = document.createElement('label');\n",
              "      label.textContent = `Downloading \"${filename}\": `;\n",
              "      div.appendChild(label);\n",
              "      const progress = document.createElement('progress');\n",
              "      progress.max = size;\n",
              "      div.appendChild(progress);\n",
              "      document.body.appendChild(div);\n",
              "\n",
              "      const buffers = [];\n",
              "      let downloaded = 0;\n",
              "\n",
              "      const channel = await google.colab.kernel.comms.open(id);\n",
              "      // Send a message to notify the kernel that we're ready.\n",
              "      channel.send({})\n",
              "\n",
              "      for await (const message of channel.messages) {\n",
              "        // Send a message to notify the kernel that we're ready.\n",
              "        channel.send({})\n",
              "        if (message.buffers) {\n",
              "          for (const buffer of message.buffers) {\n",
              "            buffers.push(buffer);\n",
              "            downloaded += buffer.byteLength;\n",
              "            progress.value = downloaded;\n",
              "          }\n",
              "        }\n",
              "      }\n",
              "      const blob = new Blob(buffers, {type: 'application/binary'});\n",
              "      const a = document.createElement('a');\n",
              "      a.href = window.URL.createObjectURL(blob);\n",
              "      a.download = filename;\n",
              "      div.appendChild(a);\n",
              "      a.click();\n",
              "      div.remove();\n",
              "    }\n",
              "  "
            ]
          },
          "metadata": {}
        },
        {
          "output_type": "display_data",
          "data": {
            "text/plain": [
              "<IPython.core.display.Javascript object>"
            ],
            "application/javascript": [
              "download(\"download_147f2e97-3731-4a2c-bc54-36cea4f77222\", \"svd_model.pkl\", 701914494)"
            ]
          },
          "metadata": {}
        }
      ]
    }
  ],
  "metadata": {
    "colab": {
      "provenance": []
    },
    "kernelspec": {
      "display_name": "Python 3",
      "name": "python3"
    },
    "language_info": {
      "name": "python"
    }
  },
  "nbformat": 4,
  "nbformat_minor": 0
}